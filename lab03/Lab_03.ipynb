{
 "cells": [
  {
   "cell_type": "markdown",
   "metadata": {},
   "source": [
    "# Experimento #3\n",
    "## Termistores\n",
    "\n",
    "### Nome: João Vitor Rodrigues Baptista\n",
    "### Matricula: 15/0013329"
   ]
  },
  {
   "cell_type": "markdown",
   "metadata": {},
   "source": [
    "Objetivo: Introdução ao conceito de coeficiente térmico de dispositivos e à variação da resistividade de materiais condutores e semicondutores em função da temperatura. Caracterização elétrica, de termistores PTC (Positive Temperature Coefficient) e NTC (Negative Temperature Coefficient). "
   ]
  },
  {
   "cell_type": "markdown",
   "metadata": {},
   "source": [
    "Importando os dados"
   ]
  },
  {
   "cell_type": "code",
   "execution_count": 1,
   "metadata": {},
   "outputs": [],
   "source": [
    "mV = 10**-3\n",
    "V = 1\n",
    "\n",
    "dict_data = {\n",
    "    'Vdc[V]': [0, 0.5, 1.0, 1.5, 2.0, 2.5],\n",
    "    'Va[V]': [0, 502*mV, 1006*mV, 1505*mV, 2.02*V, 2.51*V],\n",
    "    'Vb[V]': [0, 41.9*mV, 156.4*mV, 338*mV, 583*mV, 892*mV]\n",
    "}\n",
    "\n",
    "r2 = 1.00"
   ]
  },
  {
   "cell_type": "code",
   "execution_count": 11,
   "metadata": {},
   "outputs": [],
   "source": [
    "import pandas as pd\n",
    "import numpy as np\n",
    "import matplotlib.pyplot as plt\n",
    "import warnings\n",
    "import math\n",
    "\n",
    "warnings.filterwarnings('ignore')"
   ]
  },
  {
   "cell_type": "code",
   "execution_count": 3,
   "metadata": {},
   "outputs": [
    {
     "data": {
      "text/html": [
       "<div>\n",
       "<style scoped>\n",
       "    .dataframe tbody tr th:only-of-type {\n",
       "        vertical-align: middle;\n",
       "    }\n",
       "\n",
       "    .dataframe tbody tr th {\n",
       "        vertical-align: top;\n",
       "    }\n",
       "\n",
       "    .dataframe thead th {\n",
       "        text-align: right;\n",
       "    }\n",
       "</style>\n",
       "<table border=\"1\" class=\"dataframe\">\n",
       "  <thead>\n",
       "    <tr style=\"text-align: right;\">\n",
       "      <th></th>\n",
       "      <th>Vdc[V]</th>\n",
       "      <th>Va[V]</th>\n",
       "      <th>Vb[V]</th>\n",
       "    </tr>\n",
       "  </thead>\n",
       "  <tbody>\n",
       "    <tr>\n",
       "      <th>0</th>\n",
       "      <td>0.0</td>\n",
       "      <td>0.000</td>\n",
       "      <td>0.0000</td>\n",
       "    </tr>\n",
       "    <tr>\n",
       "      <th>1</th>\n",
       "      <td>0.5</td>\n",
       "      <td>0.502</td>\n",
       "      <td>0.0419</td>\n",
       "    </tr>\n",
       "    <tr>\n",
       "      <th>2</th>\n",
       "      <td>1.0</td>\n",
       "      <td>1.006</td>\n",
       "      <td>0.1564</td>\n",
       "    </tr>\n",
       "    <tr>\n",
       "      <th>3</th>\n",
       "      <td>1.5</td>\n",
       "      <td>1.505</td>\n",
       "      <td>0.3380</td>\n",
       "    </tr>\n",
       "    <tr>\n",
       "      <th>4</th>\n",
       "      <td>2.0</td>\n",
       "      <td>2.020</td>\n",
       "      <td>0.5830</td>\n",
       "    </tr>\n",
       "  </tbody>\n",
       "</table>\n",
       "</div>"
      ],
      "text/plain": [
       "   Vdc[V]  Va[V]   Vb[V]\n",
       "0     0.0  0.000  0.0000\n",
       "1     0.5  0.502  0.0419\n",
       "2     1.0  1.006  0.1564\n",
       "3     1.5  1.505  0.3380\n",
       "4     2.0  2.020  0.5830"
      ]
     },
     "execution_count": 3,
     "metadata": {},
     "output_type": "execute_result"
    }
   ],
   "source": [
    "data_df = pd.DataFrame.from_dict(dict_data)\n",
    "data_df.head()"
   ]
  },
  {
   "cell_type": "markdown",
   "metadata": {},
   "source": [
    "Para fazer o preenchimento dos restantes dos dados será utilizados as seguintes formulas:\n",
    "\n",
    "$$ V_{AB}[V] = V_{A}[V] - V_{B}[V]  $$\n",
    "\n",
    "\n",
    "$$ I[A] = \\frac{V_{B}[V]}{R_{2}} $$ \n",
    "\n",
    "\n",
    "$$ R_{1}[\\Omega] = \\frac{R_{2}(V_{A}[V] - V_{B}[V])}{V_{B}[V]} $$ \n",
    "\n",
    "\n",
    "$$ P_{1}[W] = \\frac{V_{AB}[V]^{2}}{R_{1}[\\Omega]} $$ \n"
   ]
  },
  {
   "cell_type": "code",
   "execution_count": 4,
   "metadata": {},
   "outputs": [],
   "source": [
    "# Dados do Termistor NTC 10D-9\n",
    "rinf = 0.458 #[ohms]\n",
    "R0 = 10; #[ohms]\n",
    "T0 = 298.15 #[K] ou 25 graus centígrados\n",
    "B = T0*math.log(R0/rinf) #//[K]\n",
    "\n",
    "\n",
    "def calculo_f(row, r2):\n",
    "    '''Função para fazer o preenchimento dos dados completo da tabela'''\n",
    "    try:\n",
    "        Vab = row['Va[V]'] - row['Vb[V]']\n",
    "\n",
    "        I = row['Vb[V]']/r2\n",
    "\n",
    "        R1 = (r2*Vab)/row['Vb[V]']\n",
    "\n",
    "        P1 = (Vab**2)/R1\n",
    "\n",
    "        row['Vab[V]'] = Vab\n",
    "        row['I[A]'] = I\n",
    "        row['R1[OHMS]'] = R1\n",
    "        row['P1[W]'] = P1\n",
    "        row['T[K]'] = B*(math.log(R1*rinf))\n",
    "    \n",
    "    except ZeroDivisionError:\n",
    "        row['Vab[V]'] = 0\n",
    "        row['I[A]'] = 0\n",
    "        row['R1[OHMS]'] = 0\n",
    "        row['P1[W]'] = 0\n",
    "        row['T[K]'] = 0\n",
    "    \n",
    "    return row"
   ]
  },
  {
   "cell_type": "code",
   "execution_count": 5,
   "metadata": {},
   "outputs": [],
   "source": [
    "full_data_df = data_df.apply(lambda row : calculo_f(row, r2), axis = 1)"
   ]
  },
  {
   "cell_type": "markdown",
   "metadata": {},
   "source": [
    "#### 1) Estabeleça um método experimental simples para identificar termistores que possuem coeficientes positivos (PTC) ou coeficientes negativos (NTC). Descreva o seu método na forma de um diagrama"
   ]
  },
  {
   "cell_type": "markdown",
   "metadata": {},
   "source": [
    "$$ a_{t} = \\frac{1}{R(T)}\\frac{dR}{dT} $$ \n",
    "\n",
    "O que determina se um termistor é NTC ou PTC é o coeficiente at, na equação aceaima que determina a inclinação da reta  que varia com a temperatura. Quando o tesmistor é PTC, varia a resistência positivamente com o aumento da temperatura, at assume valores posistivos, no NTC onde o efeito é o contrário at assume valores negativos. Sendo assim, para determinar um tipo de termistor basta variar a temperatura do componente e observar a queda de tensão e de corrente, determinando se a resistência está aumentando ou diminuindo.\n",
    "\n",
    "![Diagrama](fds_diagram.png)"
   ]
  },
  {
   "cell_type": "markdown",
   "metadata": {},
   "source": [
    "#### 2) Monte o circuito da figura, e realize as medidas com o termistor NTC (R 1 ) das tensões V A e V B com o multímetro, sempre com a melhor escala, e sempre aumentando V DC . Calcule os valores da tensão V AB , da corrente I, e da resistência R 1 . Não faça medidas além de 1,0 ampere ( I < 1,0A )"
   ]
  },
  {
   "cell_type": "code",
   "execution_count": 6,
   "metadata": {},
   "outputs": [
    {
     "data": {
      "text/html": [
       "<div>\n",
       "<style scoped>\n",
       "    .dataframe tbody tr th:only-of-type {\n",
       "        vertical-align: middle;\n",
       "    }\n",
       "\n",
       "    .dataframe tbody tr th {\n",
       "        vertical-align: top;\n",
       "    }\n",
       "\n",
       "    .dataframe thead th {\n",
       "        text-align: right;\n",
       "    }\n",
       "</style>\n",
       "<table border=\"1\" class=\"dataframe\">\n",
       "  <thead>\n",
       "    <tr style=\"text-align: right;\">\n",
       "      <th></th>\n",
       "      <th>Vdc[V]</th>\n",
       "      <th>Va[V]</th>\n",
       "      <th>Vb[V]</th>\n",
       "      <th>Vab[V]</th>\n",
       "      <th>I[A]</th>\n",
       "      <th>R1[OHMS]</th>\n",
       "      <th>P1[W]</th>\n",
       "      <th>T[K]</th>\n",
       "    </tr>\n",
       "  </thead>\n",
       "  <tbody>\n",
       "    <tr>\n",
       "      <th>0</th>\n",
       "      <td>0.0</td>\n",
       "      <td>0.000</td>\n",
       "      <td>0.0000</td>\n",
       "      <td>0.0000</td>\n",
       "      <td>0.0000</td>\n",
       "      <td>0.000000</td>\n",
       "      <td>0.000000</td>\n",
       "      <td>0.000000</td>\n",
       "    </tr>\n",
       "    <tr>\n",
       "      <th>1</th>\n",
       "      <td>0.5</td>\n",
       "      <td>0.502</td>\n",
       "      <td>0.0419</td>\n",
       "      <td>0.4601</td>\n",
       "      <td>0.0419</td>\n",
       "      <td>10.980907</td>\n",
       "      <td>0.019278</td>\n",
       "      <td>1484.979150</td>\n",
       "    </tr>\n",
       "    <tr>\n",
       "      <th>2</th>\n",
       "      <td>1.0</td>\n",
       "      <td>1.006</td>\n",
       "      <td>0.1564</td>\n",
       "      <td>0.8496</td>\n",
       "      <td>0.1564</td>\n",
       "      <td>5.432225</td>\n",
       "      <td>0.132877</td>\n",
       "      <td>837.941350</td>\n",
       "    </tr>\n",
       "    <tr>\n",
       "      <th>3</th>\n",
       "      <td>1.5</td>\n",
       "      <td>1.505</td>\n",
       "      <td>0.3380</td>\n",
       "      <td>1.1670</td>\n",
       "      <td>0.3380</td>\n",
       "      <td>3.452663</td>\n",
       "      <td>0.394446</td>\n",
       "      <td>421.295014</td>\n",
       "    </tr>\n",
       "    <tr>\n",
       "      <th>4</th>\n",
       "      <td>2.0</td>\n",
       "      <td>2.020</td>\n",
       "      <td>0.5830</td>\n",
       "      <td>1.4370</td>\n",
       "      <td>0.5830</td>\n",
       "      <td>2.464837</td>\n",
       "      <td>0.837771</td>\n",
       "      <td>111.460047</td>\n",
       "    </tr>\n",
       "    <tr>\n",
       "      <th>5</th>\n",
       "      <td>2.5</td>\n",
       "      <td>2.510</td>\n",
       "      <td>0.8920</td>\n",
       "      <td>1.6180</td>\n",
       "      <td>0.8920</td>\n",
       "      <td>1.813901</td>\n",
       "      <td>1.443256</td>\n",
       "      <td>-170.450703</td>\n",
       "    </tr>\n",
       "  </tbody>\n",
       "</table>\n",
       "</div>"
      ],
      "text/plain": [
       "   Vdc[V]  Va[V]   Vb[V]  Vab[V]    I[A]   R1[OHMS]     P1[W]         T[K]\n",
       "0     0.0  0.000  0.0000  0.0000  0.0000   0.000000  0.000000     0.000000\n",
       "1     0.5  0.502  0.0419  0.4601  0.0419  10.980907  0.019278  1484.979150\n",
       "2     1.0  1.006  0.1564  0.8496  0.1564   5.432225  0.132877   837.941350\n",
       "3     1.5  1.505  0.3380  1.1670  0.3380   3.452663  0.394446   421.295014\n",
       "4     2.0  2.020  0.5830  1.4370  0.5830   2.464837  0.837771   111.460047\n",
       "5     2.5  2.510  0.8920  1.6180  0.8920   1.813901  1.443256  -170.450703"
      ]
     },
     "execution_count": 6,
     "metadata": {},
     "output_type": "execute_result"
    }
   ],
   "source": [
    "full_data_df = full_data_df.replace(np.nan, 0)\n",
    "full_data_df"
   ]
  },
  {
   "cell_type": "markdown",
   "metadata": {},
   "source": [
    "#### 3) Plote o gráfico dos pontos experimentais da Corrente I [A] x Tensão V AB [V], para o termistor NTC."
   ]
  },
  {
   "cell_type": "code",
   "execution_count": 7,
   "metadata": {},
   "outputs": [
    {
     "data": {
      "image/png": "[encoded data removed]",
      "text/plain": [
       "<Figure size 720x720 with 1 Axes>"
      ]
     },
     "metadata": {
      "needs_background": "light"
     },
     "output_type": "display_data"
    }
   ],
   "source": [
    "full_data_df.plot(kind='scatter',y='I[A]',x='Vab[V]',color='red', grid=True, title='Curva de I x Vab', legend=True, xticks=full_data_df['Vab[V]'], yticks=full_data_df['I[A]'], figsize=(10,10) )\n",
    "plt.show()"
   ]
  },
  {
   "cell_type": "markdown",
   "metadata": {},
   "source": [
    "#### 4) Plote os valores experimentais da resistência R 1 [] do NTC em função das Temperaturas T [K] calculadas a partir do modelo de Steinhart-Hart, usando os parâmetros fornecidos pelo fabricante (r ∞ , R 0 , T 0 ) para o seu termistor. Plote no mesmo gráfico a curva R 1 [] x T [K] do modelo. Use o programa Scilab disponibilizado."
   ]
  },
  {
   "cell_type": "code",
   "execution_count": 8,
   "metadata": {},
   "outputs": [
    {
     "data": {
      "image/png": "[encoded data removed]",
      "text/plain": [
       "<Figure size 720x720 with 1 Axes>"
      ]
     },
     "metadata": {
      "needs_background": "light"
     },
     "output_type": "display_data"
    }
   ],
   "source": [
    "full_data_df.plot(kind='scatter',y='R1[OHMS]',x='T[K]',color='red', grid=True, title='Curva de R1[OHMS] x T[K]', legend=True, xticks=full_data_df['T[K]'], yticks=full_data_df['R1[OHMS]'], figsize=(10,10) )\n",
    "plt.show()"
   ]
  },
  {
   "cell_type": "markdown",
   "metadata": {},
   "source": [
    "#### 4) Modelo"
   ]
  },
  {
   "cell_type": "code",
   "execution_count": 9,
   "metadata": {},
   "outputs": [],
   "source": [
    "tc = np.linspace(min(full_data_df['T[K]']), max(full_data_df['T[K]']), num=100)\n",
    "rc1 = rinf*(np.exp(B/tc))"
   ]
  },
  {
   "cell_type": "code",
   "execution_count": 10,
   "metadata": {},
   "outputs": [
    {
     "data": {
      "image/png": "[encoded data removed]",
      "text/plain": [
       "<Figure size 432x288 with 1 Axes>"
      ]
     },
     "metadata": {
      "needs_background": "light"
     },
     "output_type": "display_data"
    }
   ],
   "source": [
    "plt.title(\"MOdelo de R1[OHMS] x T[K]\")  \n",
    "plt.xlabel(\"T[K]\")  \n",
    "plt.ylabel(\"R1[OHMS]\")  \n",
    "plt.plot(tc, rc1, color =\"blue\")\n",
    "plt.rcParams[\"figure.figsize\"] = (20,10)\n",
    "plt.grid(True)\n",
    "plt.yscale('log')\n",
    "plt.show()"
   ]
  },
  {
   "cell_type": "markdown",
   "metadata": {},
   "source": [
    "## 5) Responda:"
   ]
  },
  {
   "cell_type": "markdown",
   "metadata": {},
   "source": [
    "#### a) Pesquisa: Descreva como termistores NTC e PTC podem ser usados para medir a temperatura. Proponha um circuito de medida e descreva como este Termômetro Eletrônico funciona."
   ]
  },
  {
   "cell_type": "markdown",
   "metadata": {},
   "source": [
    "$$ a_{t} = \\frac{1}{R(T)}\\frac{dR}{dT} $$ \n",
    "\n",
    "O que determina se um termistor é NTC ou PTC é o coeficiente at, na equação aceaima que determina a inclinação da reta  que varia com a temperatura. Quando o tesmistor é PTC, varia a resistência positivamente com o aumento da temperatura, at assume valores posistivos, no NTC onde o efeito é o contrário at assume valores negativos. Sendo assim, para determinar um tipo de termistor basta variar a temperatura do componente e observar a queda de tensão e de corrente, determinando se a resistência está aumentando ou diminuindo.\n",
    "\n",
    "Dessa forma o exemplo do experimento pode ser um circuito que medir temperatura, apenas fazendo um a aferiação da corrente pode entender o quanto esta a temperatura do ambiente."
   ]
  },
  {
   "cell_type": "markdown",
   "metadata": {},
   "source": [
    "#### b) Pesquisa: Compare os principais materiais que são usados na fabricação de termistores PTC e NTC. Cite as suas fontes, relatando a composição, o mecanismo de sensibilidade à temperatura, e como são construídos."
   ]
  },
  {
   "cell_type": "markdown",
   "metadata": {},
   "source": [
    "Já os termistores são fabricados de material semicondutor, tais como óxido de níquel, cobalto ou magnésio e sulfeto de ferro. Os óxidos semicondutores reagem de forma diferente do que os metais que formam os RTDs, para o NTC a resistência descresce exponencialmente com o aumento da temperatura."
   ]
  },
  {
   "cell_type": "code",
   "execution_count": null,
   "metadata": {},
   "outputs": [],
   "source": []
  }
 ],
 "metadata": {
  "kernelspec": {
   "display_name": "Python 3",
   "language": "python",
   "name": "python3"
  },
  "language_info": {
   "codemirror_mode": {
    "name": "ipython",
    "version": 3
   },
   "file_extension": ".py",
   "mimetype": "text/x-python",
   "name": "python",
   "nbconvert_exporter": "python",
   "pygments_lexer": "ipython3",
   "version": "3.6.9"
  }
 },
 "nbformat": 4,
 "nbformat_minor": 4
}
