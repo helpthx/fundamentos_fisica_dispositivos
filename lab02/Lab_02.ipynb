{
 "cells": [
  {
   "cell_type": "markdown",
   "metadata": {},
   "source": [
    "# Experimento #2\n",
    "## Lâmpada Elétrica de Filamento\n",
    "\n",
    "### Nome: João Vitor Rodrigues Baptista\n",
    "### Matricula: 15/0013329"
   ]
  },
  {
   "cell_type": "markdown",
   "metadata": {},
   "source": [
    "Objetivo: Caracterização elétrica de uma lâmpada de filamento com o levantamento da curva de corrente e\n",
    "tensão. Compreensão do conceito de resistividade em metais como função da temperatura. Observação da\n",
    "relação entre temperatura e a cor (espectro de emissão) do filamento."
   ]
  },
  {
   "cell_type": "markdown",
   "metadata": {},
   "source": [
    "Importando os dados"
   ]
  },
  {
   "cell_type": "code",
   "execution_count": 1,
   "metadata": {},
   "outputs": [],
   "source": [
    "dict_data = {\n",
    "    'Vdc[V]': [0, 1, 2, 3, 4, 5, 6, 7],\n",
    "    'Va[V]': [0, 1.001, 2.00, 3.00, 4.00, 5.00, 6.00, 6.99],\n",
    "    'Vb[V]': [0, 0.1406, 0.1951, 0.244, 0.290, 0.329, 0.364, 0.400],\n",
    "    'Cor': ['Apagado','Apagado','Vermelho Tênue','Vermelho Alaranjado','Laranja','Amarelo','Amarelo Claro','Branco'] \n",
    "}\n",
    "\n",
    "r2 = 1.00"
   ]
  },
  {
   "cell_type": "code",
   "execution_count": 2,
   "metadata": {},
   "outputs": [],
   "source": [
    "import pandas as pd\n",
    "import numpy as np\n",
    "import matplotlib.pyplot as plt"
   ]
  },
  {
   "cell_type": "code",
   "execution_count": 3,
   "metadata": {},
   "outputs": [
    {
     "data": {
      "text/html": [
       "<div>\n",
       "<style scoped>\n",
       "    .dataframe tbody tr th:only-of-type {\n",
       "        vertical-align: middle;\n",
       "    }\n",
       "\n",
       "    .dataframe tbody tr th {\n",
       "        vertical-align: top;\n",
       "    }\n",
       "\n",
       "    .dataframe thead th {\n",
       "        text-align: right;\n",
       "    }\n",
       "</style>\n",
       "<table border=\"1\" class=\"dataframe\">\n",
       "  <thead>\n",
       "    <tr style=\"text-align: right;\">\n",
       "      <th></th>\n",
       "      <th>Vdc[V]</th>\n",
       "      <th>Va[V]</th>\n",
       "      <th>Vb[V]</th>\n",
       "      <th>Cor</th>\n",
       "    </tr>\n",
       "  </thead>\n",
       "  <tbody>\n",
       "    <tr>\n",
       "      <th>0</th>\n",
       "      <td>0</td>\n",
       "      <td>0.000</td>\n",
       "      <td>0.0000</td>\n",
       "      <td>Apagado</td>\n",
       "    </tr>\n",
       "    <tr>\n",
       "      <th>1</th>\n",
       "      <td>1</td>\n",
       "      <td>1.001</td>\n",
       "      <td>0.1406</td>\n",
       "      <td>Apagado</td>\n",
       "    </tr>\n",
       "    <tr>\n",
       "      <th>2</th>\n",
       "      <td>2</td>\n",
       "      <td>2.000</td>\n",
       "      <td>0.1951</td>\n",
       "      <td>Vermelho Tênue</td>\n",
       "    </tr>\n",
       "    <tr>\n",
       "      <th>3</th>\n",
       "      <td>3</td>\n",
       "      <td>3.000</td>\n",
       "      <td>0.2440</td>\n",
       "      <td>Vermelho Alaranjado</td>\n",
       "    </tr>\n",
       "    <tr>\n",
       "      <th>4</th>\n",
       "      <td>4</td>\n",
       "      <td>4.000</td>\n",
       "      <td>0.2900</td>\n",
       "      <td>Laranja</td>\n",
       "    </tr>\n",
       "  </tbody>\n",
       "</table>\n",
       "</div>"
      ],
      "text/plain": [
       "   Vdc[V]  Va[V]   Vb[V]                  Cor\n",
       "0       0  0.000  0.0000              Apagado\n",
       "1       1  1.001  0.1406              Apagado\n",
       "2       2  2.000  0.1951       Vermelho Tênue\n",
       "3       3  3.000  0.2440  Vermelho Alaranjado\n",
       "4       4  4.000  0.2900              Laranja"
      ]
     },
     "execution_count": 3,
     "metadata": {},
     "output_type": "execute_result"
    }
   ],
   "source": [
    "data_df = pd.DataFrame.from_dict(dict_data)\n",
    "data_df.head()"
   ]
  },
  {
   "cell_type": "markdown",
   "metadata": {},
   "source": [
    "Para fazer o preenchimento dos restantes dos dados será utilizados as seguintes formulas:\n",
    "\n",
    "$$ V_{AB}[V] = V_{A}[V] - V_{B}[V]  $$\n",
    "\n",
    "\n",
    "$$ I[A] = \\frac{V_{B}[V]}{R_{2}} $$ \n",
    "\n",
    "\n",
    "$$ R_{1}[\\Omega] = \\frac{R_{2}(V_{A}[V] - V_{B}[V])}{V_{B}[V]} $$ \n",
    "\n",
    "\n",
    "$$ P_{1}[W] = \\frac{V_{AB}[V]^{2}}{R_{1}[\\Omega]} $$ \n"
   ]
  },
  {
   "cell_type": "code",
   "execution_count": 4,
   "metadata": {},
   "outputs": [],
   "source": [
    "def calculo_f(row, r2):\n",
    "    '''Função para fazer o preenchimento dos dados completo da tabela'''\n",
    "    try:\n",
    "        Vab = row['Va[V]'] - row['Vb[V]']\n",
    "\n",
    "        I = row['Vb[V]']/r2\n",
    "\n",
    "        R1 = (r2*Vab)/row['Vb[V]']\n",
    "\n",
    "        P1 = (Vab**2)/R1\n",
    "\n",
    "        row['Vab[V]'] = Vab\n",
    "        row['I[A]'] = I\n",
    "        row['R1[OHMS]'] = R1\n",
    "        row['P1[W]'] = P1\n",
    "    \n",
    "    except ZeroDivisionError:\n",
    "        row['Vab[V]'] = 0\n",
    "        row['I[A]'] = 0\n",
    "        row['R1[OHMS]'] = 0\n",
    "        row['P1[W]'] = 0\n",
    "    \n",
    "    return row"
   ]
  },
  {
   "cell_type": "code",
   "execution_count": 5,
   "metadata": {},
   "outputs": [],
   "source": [
    "full_data_df = data_df.apply(lambda row : calculo_f(row, r2), axis = 1)"
   ]
  },
  {
   "cell_type": "code",
   "execution_count": 6,
   "metadata": {},
   "outputs": [
    {
     "data": {
      "text/html": [
       "<div>\n",
       "<style scoped>\n",
       "    .dataframe tbody tr th:only-of-type {\n",
       "        vertical-align: middle;\n",
       "    }\n",
       "\n",
       "    .dataframe tbody tr th {\n",
       "        vertical-align: top;\n",
       "    }\n",
       "\n",
       "    .dataframe thead th {\n",
       "        text-align: right;\n",
       "    }\n",
       "</style>\n",
       "<table border=\"1\" class=\"dataframe\">\n",
       "  <thead>\n",
       "    <tr style=\"text-align: right;\">\n",
       "      <th></th>\n",
       "      <th>Vdc[V]</th>\n",
       "      <th>Va[V]</th>\n",
       "      <th>Vb[V]</th>\n",
       "      <th>Cor</th>\n",
       "      <th>Vab[V]</th>\n",
       "      <th>I[A]</th>\n",
       "      <th>R1[OHMS]</th>\n",
       "      <th>P1[W]</th>\n",
       "    </tr>\n",
       "  </thead>\n",
       "  <tbody>\n",
       "    <tr>\n",
       "      <th>0</th>\n",
       "      <td>0</td>\n",
       "      <td>0.000</td>\n",
       "      <td>0.0000</td>\n",
       "      <td>Apagado</td>\n",
       "      <td>0.0000</td>\n",
       "      <td>0.0000</td>\n",
       "      <td>0.000000</td>\n",
       "      <td>0.000000</td>\n",
       "    </tr>\n",
       "    <tr>\n",
       "      <th>1</th>\n",
       "      <td>1</td>\n",
       "      <td>1.001</td>\n",
       "      <td>0.1406</td>\n",
       "      <td>Apagado</td>\n",
       "      <td>0.8604</td>\n",
       "      <td>0.1406</td>\n",
       "      <td>6.119488</td>\n",
       "      <td>0.120972</td>\n",
       "    </tr>\n",
       "    <tr>\n",
       "      <th>2</th>\n",
       "      <td>2</td>\n",
       "      <td>2.000</td>\n",
       "      <td>0.1951</td>\n",
       "      <td>Vermelho Tênue</td>\n",
       "      <td>1.8049</td>\n",
       "      <td>0.1951</td>\n",
       "      <td>9.251153</td>\n",
       "      <td>0.352136</td>\n",
       "    </tr>\n",
       "    <tr>\n",
       "      <th>3</th>\n",
       "      <td>3</td>\n",
       "      <td>3.000</td>\n",
       "      <td>0.2440</td>\n",
       "      <td>Vermelho Alaranjado</td>\n",
       "      <td>2.7560</td>\n",
       "      <td>0.2440</td>\n",
       "      <td>11.295082</td>\n",
       "      <td>0.672464</td>\n",
       "    </tr>\n",
       "    <tr>\n",
       "      <th>4</th>\n",
       "      <td>4</td>\n",
       "      <td>4.000</td>\n",
       "      <td>0.2900</td>\n",
       "      <td>Laranja</td>\n",
       "      <td>3.7100</td>\n",
       "      <td>0.2900</td>\n",
       "      <td>12.793103</td>\n",
       "      <td>1.075900</td>\n",
       "    </tr>\n",
       "    <tr>\n",
       "      <th>5</th>\n",
       "      <td>5</td>\n",
       "      <td>5.000</td>\n",
       "      <td>0.3290</td>\n",
       "      <td>Amarelo</td>\n",
       "      <td>4.6710</td>\n",
       "      <td>0.3290</td>\n",
       "      <td>14.197568</td>\n",
       "      <td>1.536759</td>\n",
       "    </tr>\n",
       "    <tr>\n",
       "      <th>6</th>\n",
       "      <td>6</td>\n",
       "      <td>6.000</td>\n",
       "      <td>0.3640</td>\n",
       "      <td>Amarelo Claro</td>\n",
       "      <td>5.6360</td>\n",
       "      <td>0.3640</td>\n",
       "      <td>15.483516</td>\n",
       "      <td>2.051504</td>\n",
       "    </tr>\n",
       "    <tr>\n",
       "      <th>7</th>\n",
       "      <td>7</td>\n",
       "      <td>6.990</td>\n",
       "      <td>0.4000</td>\n",
       "      <td>Branco</td>\n",
       "      <td>6.5900</td>\n",
       "      <td>0.4000</td>\n",
       "      <td>16.475000</td>\n",
       "      <td>2.636000</td>\n",
       "    </tr>\n",
       "  </tbody>\n",
       "</table>\n",
       "</div>"
      ],
      "text/plain": [
       "   Vdc[V]  Va[V]   Vb[V]                  Cor  Vab[V]    I[A]   R1[OHMS]  \\\n",
       "0       0  0.000  0.0000              Apagado  0.0000  0.0000   0.000000   \n",
       "1       1  1.001  0.1406              Apagado  0.8604  0.1406   6.119488   \n",
       "2       2  2.000  0.1951       Vermelho Tênue  1.8049  0.1951   9.251153   \n",
       "3       3  3.000  0.2440  Vermelho Alaranjado  2.7560  0.2440  11.295082   \n",
       "4       4  4.000  0.2900              Laranja  3.7100  0.2900  12.793103   \n",
       "5       5  5.000  0.3290              Amarelo  4.6710  0.3290  14.197568   \n",
       "6       6  6.000  0.3640        Amarelo Claro  5.6360  0.3640  15.483516   \n",
       "7       7  6.990  0.4000               Branco  6.5900  0.4000  16.475000   \n",
       "\n",
       "      P1[W]  \n",
       "0  0.000000  \n",
       "1  0.120972  \n",
       "2  0.352136  \n",
       "3  0.672464  \n",
       "4  1.075900  \n",
       "5  1.536759  \n",
       "6  2.051504  \n",
       "7  2.636000  "
      ]
     },
     "execution_count": 6,
     "metadata": {},
     "output_type": "execute_result"
    }
   ],
   "source": [
    "full_data_df"
   ]
  },
  {
   "cell_type": "markdown",
   "metadata": {},
   "source": [
    "#### 2) Obtenha o gráfico de pontos experimentais para curva I x V AB . Onde I é a corrente que passa pelo filamento e V AB = (V A -V B ) é o potencial sobre a lâmpada."
   ]
  },
  {
   "cell_type": "code",
   "execution_count": 7,
   "metadata": {},
   "outputs": [
    {
     "data": {
      "image/png": "[encoded data removed]",
      "text/plain": [
       "<Figure size 720x720 with 1 Axes>"
      ]
     },
     "metadata": {
      "needs_background": "light"
     },
     "output_type": "display_data"
    }
   ],
   "source": [
    "full_data_df.plot(kind='scatter',y='I[A]',x='Vab[V]',color='red', grid=True, title='Curva de I x Vab', legend=True, xticks=full_data_df['Vab[V]'], yticks=full_data_df['I[A]'], figsize=(10,10) )\n",
    "plt.show()"
   ]
  },
  {
   "cell_type": "markdown",
   "metadata": {},
   "source": [
    "#### 3) No mesmo gráfico do item-2, ajuste por mínimos quadrados os pontos experimentais e plote a curva de corrente x tensão (I x V AB ) do modelo da lâmpada incandescente. Explique se o modelo é adequado."
   ]
  },
  {
   "cell_type": "code",
   "execution_count": 8,
   "metadata": {},
   "outputs": [],
   "source": [
    "xc = np.linspace(min(full_data_df['Vab[V]']), max(full_data_df['Vab[V]']), num=100)"
   ]
  },
  {
   "cell_type": "code",
   "execution_count": 9,
   "metadata": {},
   "outputs": [],
   "source": [
    "# calculate polynomial\n",
    "z = np.polyfit(x=full_data_df['Vab[V]'].values, y=(full_data_df['I[A]'].values), deg=2)\n",
    "f = np.poly1d(z)\n",
    "\n",
    "# calculate new x's and y's\n",
    "x_new = np.linspace(min(full_data_df['Vab[V]']), max(full_data_df['Vab[V]']), num=100)\n",
    "y_new = f(x_new)"
   ]
  },
  {
   "cell_type": "code",
   "execution_count": 10,
   "metadata": {},
   "outputs": [
    {
     "data": {
      "image/png": "[encoded data removed]",
      "text/plain": [
       "<Figure size 432x288 with 1 Axes>"
      ]
     },
     "metadata": {
      "needs_background": "light"
     },
     "output_type": "display_data"
    }
   ],
   "source": [
    "plt.plot(full_data_df['Vab[V]'], full_data_df['I[A]'],'o', x_new, y_new,)\n",
    "plt.xlabel('Vab[V]')  \n",
    "plt.ylabel('I[A]') \n",
    "plt.show()"
   ]
  },
  {
   "cell_type": "markdown",
   "metadata": {},
   "source": [
    "Calculando o erro médio"
   ]
  },
  {
   "cell_type": "code",
   "execution_count": 11,
   "metadata": {},
   "outputs": [
    {
     "data": {
      "text/plain": [
       "array([0.02808054, 0.10697454, 0.1825203 , 0.24689729, 0.29967943,\n",
       "       0.34090948, 0.37025319, 0.38738523])"
      ]
     },
     "execution_count": 11,
     "metadata": {},
     "output_type": "execute_result"
    }
   ],
   "source": [
    "f(full_data_df['Vab[V]'])"
   ]
  },
  {
   "cell_type": "code",
   "execution_count": 12,
   "metadata": {},
   "outputs": [],
   "source": [
    "from sklearn.metrics import mean_squared_error\n",
    "from math import sqrt\n",
    "\n",
    "em  = mean_squared_error(full_data_df['I[A]'], f(full_data_df['Vab[V]']))"
   ]
  },
  {
   "cell_type": "code",
   "execution_count": 13,
   "metadata": {},
   "outputs": [
    {
     "name": "stdout",
     "output_type": "stream",
     "text": [
      "O root means foi de:  0.0003149491562068121\n"
     ]
    }
   ],
   "source": [
    "print('O root means foi de: ', em)"
   ]
  },
  {
   "cell_type": "code",
   "execution_count": 14,
   "metadata": {},
   "outputs": [
    {
     "name": "stdout",
     "output_type": "stream",
     "text": [
      "As constates quadraticas do modelo foram:  [-0.00648769  0.09727656  0.02808054]\n"
     ]
    }
   ],
   "source": [
    "print('As constates quadraticas do modelo foram: ', z)"
   ]
  },
  {
   "cell_type": "markdown",
   "metadata": {},
   "source": [
    "## 4) Questionário:"
   ]
  },
  {
   "cell_type": "markdown",
   "metadata": {},
   "source": [
    "#### a) Assumindo um espectro de radiação aproximadamente de corpo negro, calcule em que temperatura uma lâmpada incandescente deveria operar em uma máxima eficiência de iluminação para o olho humano."
   ]
  },
  {
   "cell_type": "markdown",
   "metadata": {},
   "source": [
    "A temperatura considerada como ideal seno visivel a olho humano é representada na equação \n",
    "\n",
    "$$ \\lambda[max] = \\frac{0.7 + 0.4}{2} = 0.55 [\\mu m] $$ \n",
    "\n",
    "Como o \\lambda[max]*T é considerado uma constate 2897.756 [\\mu m.K]. Podemos dividir o cosiente pela constate e encontrar a temperatura:\n",
    "\n",
    "$$ T = \\frac{2897.756 [\\mu m.K]}{0.55 [\\mu m]} = 5268.6473 K $$ \n",
    "\n",
    "Não sendo totalmente eficiente visto que o valor de fusão dos filamentos de Tugstênio são de aproximadamente 3.695 K"
   ]
  },
  {
   "cell_type": "markdown",
   "metadata": {},
   "source": [
    "#### b) Pesquisa: Qual a maior eficiência teórica que poderia ser obtida de lâmpadas com filamento incandescente de tungstênio comuns? Explique e cite as suas fontes"
   ]
  },
  {
   "cell_type": "markdown",
   "metadata": {},
   "source": [
    "A maior eficiência encontrara em um filamento de Tungstêncio foi:\n",
    "\n",
    "$$ \\lambda[max] = \\frac{2897.756 [\\mu m.K]}{3695} K =  0.78 [\\mu m] $$ "
   ]
  },
  {
   "cell_type": "markdown",
   "metadata": {},
   "source": [
    "## 5) Questões Complementares:"
   ]
  },
  {
   "cell_type": "markdown",
   "metadata": {},
   "source": [
    "#### g) Verifique se o modelo físico-matemático I vs. V AB adotado neste experimento foi adequado, calculando a métrica de Erro Quadrático Médio (EQM)."
   ]
  },
  {
   "cell_type": "markdown",
   "metadata": {},
   "source": [
    "Como o erro quadrado foi bastante pequeno é possivel assumir que o modelo de aproximação de metodos quadrados teve um resultado muito bom"
   ]
  },
  {
   "cell_type": "code",
   "execution_count": null,
   "metadata": {},
   "outputs": [],
   "source": []
  }
 ],
 "metadata": {
  "kernelspec": {
   "display_name": "Python 3",
   "language": "python",
   "name": "python3"
  },
  "language_info": {
   "codemirror_mode": {
    "name": "ipython",
    "version": 3
   },
   "file_extension": ".py",
   "mimetype": "text/x-python",
   "name": "python",
   "nbconvert_exporter": "python",
   "pygments_lexer": "ipython3",
   "version": "3.6.9"
  }
 },
 "nbformat": 4,
 "nbformat_minor": 4
}
