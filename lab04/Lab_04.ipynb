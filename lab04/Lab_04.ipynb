{
 "cells": [
  {
   "cell_type": "markdown",
   "metadata": {},
   "source": [
    "# Experimento #4\n",
    "## LDR\n",
    "\n",
    "### Nome: João Vitor Rodrigues Baptista\n",
    "### Matricula: 15/0013329"
   ]
  },
  {
   "cell_type": "markdown",
   "metadata": {},
   "source": [
    "Objetivo: Introdução ao comportamento de um LDR (“Light Dependent Resistor”), com a obtenção da sua curva I-V característica, em função da intensidade de luz incidente, obtida a partir de um LED."
   ]
  },
  {
   "cell_type": "markdown",
   "metadata": {},
   "source": [
    "Importando os dados"
   ]
  },
  {
   "cell_type": "code",
   "execution_count": 112,
   "metadata": {},
   "outputs": [],
   "source": [
    "dict_data_1 = {\n",
    "    'Vr2[V]': [1.018, 2.00, 3.02, 4.02, 5.00, 6.02, 7.03],\n",
    "    'Iled[A]': [1.051*(10**-3), 2.07*(10**-3), 3.10*(10**-3), 4.15*(10**-3), 5.16*(10**-3), 6.22*(10**-3), 7.26*(10**-3)],\n",
    "    'Rldr[ohns]': [796, 540, 449, 396, 347, 330, 300]\n",
    "}\n",
    "\n",
    "r1 = 983\n",
    "r2 = 968"
   ]
  },
  {
   "cell_type": "code",
   "execution_count": 162,
   "metadata": {},
   "outputs": [],
   "source": [
    "dict_data_2 = {\n",
    "    'V2(alvo)[V]': [3, 4, 5, 6, 7, 8, 9, 10],\n",
    "    'V2[V]': [3.00, 4.01, 5.01, 6.01, 7.03, 8.02, 9.00, 10.00],\n",
    "    'Vr2[V]': [0.460, 1.395, 2.34, 3.30, 4.29, 5.24, 6.18, 7.15],\n",
    "    'Vr1[V]': [5.27, 6.82, 7.55, 8.04, 8.37, 8.56, 8.79, 8.93]\n",
    "}\n",
    "\n",
    "v1 = 12.10"
   ]
  },
  {
   "cell_type": "code",
   "execution_count": 163,
   "metadata": {},
   "outputs": [],
   "source": [
    "import pandas as pd\n",
    "import numpy as np\n",
    "import matplotlib.pyplot as plt"
   ]
  },
  {
   "cell_type": "markdown",
   "metadata": {},
   "source": [
    "#### 1) No circuito da Figura-1, com um multímetro no modo ohmímetro e outro no modo voltímetro medindo V R2 , meça a resistência R LDR em função da corrente I LED . Plote R LDR vs. I LED e ajuste a curva do modelo proposto."
   ]
  },
  {
   "cell_type": "code",
   "execution_count": 164,
   "metadata": {},
   "outputs": [
    {
     "data": {
      "text/html": [
       "<div>\n",
       "<style scoped>\n",
       "    .dataframe tbody tr th:only-of-type {\n",
       "        vertical-align: middle;\n",
       "    }\n",
       "\n",
       "    .dataframe tbody tr th {\n",
       "        vertical-align: top;\n",
       "    }\n",
       "\n",
       "    .dataframe thead th {\n",
       "        text-align: right;\n",
       "    }\n",
       "</style>\n",
       "<table border=\"1\" class=\"dataframe\">\n",
       "  <thead>\n",
       "    <tr style=\"text-align: right;\">\n",
       "      <th></th>\n",
       "      <th>Vr2[V]</th>\n",
       "      <th>Iled[A]</th>\n",
       "      <th>Rldr[ohns]</th>\n",
       "    </tr>\n",
       "  </thead>\n",
       "  <tbody>\n",
       "    <tr>\n",
       "      <th>0</th>\n",
       "      <td>1.018</td>\n",
       "      <td>0.001051</td>\n",
       "      <td>796</td>\n",
       "    </tr>\n",
       "    <tr>\n",
       "      <th>1</th>\n",
       "      <td>2.000</td>\n",
       "      <td>0.002070</td>\n",
       "      <td>540</td>\n",
       "    </tr>\n",
       "    <tr>\n",
       "      <th>2</th>\n",
       "      <td>3.020</td>\n",
       "      <td>0.003100</td>\n",
       "      <td>449</td>\n",
       "    </tr>\n",
       "    <tr>\n",
       "      <th>3</th>\n",
       "      <td>4.020</td>\n",
       "      <td>0.004150</td>\n",
       "      <td>396</td>\n",
       "    </tr>\n",
       "    <tr>\n",
       "      <th>4</th>\n",
       "      <td>5.000</td>\n",
       "      <td>0.005160</td>\n",
       "      <td>347</td>\n",
       "    </tr>\n",
       "  </tbody>\n",
       "</table>\n",
       "</div>"
      ],
      "text/plain": [
       "   Vr2[V]   Iled[A]  Rldr[ohns]\n",
       "0   1.018  0.001051         796\n",
       "1   2.000  0.002070         540\n",
       "2   3.020  0.003100         449\n",
       "3   4.020  0.004150         396\n",
       "4   5.000  0.005160         347"
      ]
     },
     "execution_count": 164,
     "metadata": {},
     "output_type": "execute_result"
    }
   ],
   "source": [
    "data_df_1 = pd.DataFrame.from_dict(dict_data_1)\n",
    "data_df_1.head()"
   ]
  },
  {
   "cell_type": "code",
   "execution_count": 165,
   "metadata": {},
   "outputs": [
    {
     "data": {
      "image/png": "[encoded data removed]",
      "text/plain": [
       "<Figure size 720x720 with 1 Axes>"
      ]
     },
     "metadata": {
      "needs_background": "light"
     },
     "output_type": "display_data"
    }
   ],
   "source": [
    "data_df_1.plot(kind='scatter',x='Iled[A]',y='Rldr[ohns]',color='red', grid=True, title='Curva de Rldr[ohns] x Iled[A]', legend=True, figsize=(10,10), logx=True )\n",
    "plt.show()"
   ]
  },
  {
   "cell_type": "markdown",
   "metadata": {},
   "source": [
    "Ajustando curva"
   ]
  },
  {
   "cell_type": "code",
   "execution_count": 166,
   "metadata": {},
   "outputs": [],
   "source": [
    "g1 = np.sqrt(data_df_1['Iled[A]'].values)\n",
    "g2 = np.ones(len(data_df_1))\n",
    "a11 = np.sum(g1*g1)\n",
    "a12 = np.sum(g1*g2)\n",
    "a21 = np.sum(g2*g1)\n",
    "a22 = np.sum(g2*g2)\n",
    "b1 = np.sum((1/data_df_1['Rldr[ohns]'].values)*g1)\n",
    "b2 = np.sum((1/data_df_1['Rldr[ohns]'].values)*g2)"
   ]
  },
  {
   "cell_type": "code",
   "execution_count": 167,
   "metadata": {},
   "outputs": [],
   "source": [
    "A =  np.array([[a11, a12],[a21, a22]])\n",
    "B =  np.array([b1, b2])\n",
    "C = np.linalg.solve(A, B)"
   ]
  },
  {
   "cell_type": "code",
   "execution_count": 168,
   "metadata": {},
   "outputs": [
    {
     "name": "stdout",
     "output_type": "stream",
     "text": [
      "Onde C é:  [3.84807513e-02 5.83514282e-05]\n"
     ]
    }
   ],
   "source": [
    "print('Onde C é: ', C)"
   ]
  },
  {
   "cell_type": "code",
   "execution_count": 169,
   "metadata": {},
   "outputs": [
    {
     "data": {
      "image/png": "[encoded data removed]",
      "text/plain": [
       "<Figure size 432x288 with 1 Axes>"
      ]
     },
     "metadata": {
      "needs_background": "light"
     },
     "output_type": "display_data"
    }
   ],
   "source": [
    "plt.plot(C)\n",
    "plt.show()"
   ]
  },
  {
   "cell_type": "code",
   "execution_count": 170,
   "metadata": {},
   "outputs": [],
   "source": [
    "Iledc = np.linspace(min(data_df_1['Iled[A]']), max(data_df_1['Iled[A]']), num=100)"
   ]
  },
  {
   "cell_type": "code",
   "execution_count": 171,
   "metadata": {},
   "outputs": [],
   "source": [
    "Gldrc = C[0]*np.sqrt(Iledc) + C[1]"
   ]
  },
  {
   "cell_type": "code",
   "execution_count": 172,
   "metadata": {},
   "outputs": [],
   "source": [
    "Rldrc = 1/Gldrc"
   ]
  },
  {
   "cell_type": "code",
   "execution_count": 173,
   "metadata": {},
   "outputs": [
    {
     "data": {
      "image/png": "[encoded data removed]",
      "text/plain": [
       "<Figure size 432x288 with 1 Axes>"
      ]
     },
     "metadata": {
      "needs_background": "light"
     },
     "output_type": "display_data"
    }
   ],
   "source": [
    "plt.plot(Iledc, Rldrc,'b', data_df_1['Iled[A]'], data_df_1['Rldr[ohns]'], 'x')\n",
    "plt.xlabel('Iledc[A]')  \n",
    "plt.ylabel('Rldrc[ohns]') \n",
    "plt.show()"
   ]
  },
  {
   "cell_type": "code",
   "execution_count": 174,
   "metadata": {},
   "outputs": [],
   "source": [
    "Gldr0 = C[0]*np.sqrt(data_df_1['Iled[A]'].values)+C[1]\n",
    "Rldr0 = 1/Gldr0"
   ]
  },
  {
   "cell_type": "code",
   "execution_count": 175,
   "metadata": {},
   "outputs": [],
   "source": [
    "EQMP = 100*(1/len(data_df_1))*np.sum(((data_df_1['Rldr[ohns]'].values - Rldr0)/data_df_1['Rldr[ohns]'].values)**2)"
   ]
  },
  {
   "cell_type": "code",
   "execution_count": 176,
   "metadata": {
    "scrolled": true
   },
   "outputs": [
    {
     "name": "stdout",
     "output_type": "stream",
     "text": [
      "O erro medio quadrado é dado por:  0.043160758784285415\n"
     ]
    }
   ],
   "source": [
    "print('O erro medio quadrado é dado por: ', EQMP)"
   ]
  },
  {
   "cell_type": "markdown",
   "metadata": {},
   "source": [
    "Como o erro percentual quadradico médio é proximo de 0 o resultado é muito aceitavel"
   ]
  },
  {
   "cell_type": "markdown",
   "metadata": {},
   "source": [
    "#### 2) No circuito da Figura-2 a tensão da fonte V 1 permanece constante. Varie a tensão da fonte V 2 de 0V até 10V. Meça as tensões V 2 , V R2 e V R1 . Calcule os outros valores preenchendo toda a tabela, usando a quantidade correta de dígitos significativos."
   ]
  },
  {
   "cell_type": "markdown",
   "metadata": {},
   "source": [
    "Como o erro quadratico médio é bem proximo de 0 podemos considerar o ajuste muito bom."
   ]
  },
  {
   "cell_type": "markdown",
   "metadata": {},
   "source": [
    "Para fazer o preenchimento dos restantes dos dados será utilizados as seguintes formulas:\n",
    "\n",
    "$$ I_{LED} = I_{2} = \\frac{V_{R2}}{R_{2}} $$ \n",
    "\n",
    "\n",
    "$$ V_{LDR} = V_{1} - V[R1] $$ \n",
    "\n",
    "\n",
    "$$ I_{LDR} = I_{1} = \\frac{V_{R1}}{R_{1}} $$ \n",
    "\n",
    "\n",
    "$$ G_{LDR} = I_{1} = \\frac{I_{LDR}}{V_{LDR}} $$ \n",
    "\n",
    "Com modelo de aproximação\n",
    "\n",
    "$$ G_{LDR} = C_{1} \\sqrt{I_{LED}} + C_{2} $$ \n"
   ]
  },
  {
   "cell_type": "code",
   "execution_count": 177,
   "metadata": {},
   "outputs": [
    {
     "data": {
      "text/html": [
       "<div>\n",
       "<style scoped>\n",
       "    .dataframe tbody tr th:only-of-type {\n",
       "        vertical-align: middle;\n",
       "    }\n",
       "\n",
       "    .dataframe tbody tr th {\n",
       "        vertical-align: top;\n",
       "    }\n",
       "\n",
       "    .dataframe thead th {\n",
       "        text-align: right;\n",
       "    }\n",
       "</style>\n",
       "<table border=\"1\" class=\"dataframe\">\n",
       "  <thead>\n",
       "    <tr style=\"text-align: right;\">\n",
       "      <th></th>\n",
       "      <th>V2(alvo)[V]</th>\n",
       "      <th>V2[V]</th>\n",
       "      <th>Vr2[V]</th>\n",
       "      <th>Vr1[V]</th>\n",
       "    </tr>\n",
       "  </thead>\n",
       "  <tbody>\n",
       "    <tr>\n",
       "      <th>0</th>\n",
       "      <td>3</td>\n",
       "      <td>3.00</td>\n",
       "      <td>0.460</td>\n",
       "      <td>5.27</td>\n",
       "    </tr>\n",
       "    <tr>\n",
       "      <th>1</th>\n",
       "      <td>4</td>\n",
       "      <td>4.01</td>\n",
       "      <td>1.395</td>\n",
       "      <td>6.82</td>\n",
       "    </tr>\n",
       "    <tr>\n",
       "      <th>2</th>\n",
       "      <td>5</td>\n",
       "      <td>5.01</td>\n",
       "      <td>2.340</td>\n",
       "      <td>7.55</td>\n",
       "    </tr>\n",
       "    <tr>\n",
       "      <th>3</th>\n",
       "      <td>6</td>\n",
       "      <td>6.01</td>\n",
       "      <td>3.300</td>\n",
       "      <td>8.04</td>\n",
       "    </tr>\n",
       "    <tr>\n",
       "      <th>4</th>\n",
       "      <td>7</td>\n",
       "      <td>7.03</td>\n",
       "      <td>4.290</td>\n",
       "      <td>8.37</td>\n",
       "    </tr>\n",
       "  </tbody>\n",
       "</table>\n",
       "</div>"
      ],
      "text/plain": [
       "   V2(alvo)[V]  V2[V]  Vr2[V]  Vr1[V]\n",
       "0            3   3.00   0.460    5.27\n",
       "1            4   4.01   1.395    6.82\n",
       "2            5   5.01   2.340    7.55\n",
       "3            6   6.01   3.300    8.04\n",
       "4            7   7.03   4.290    8.37"
      ]
     },
     "execution_count": 177,
     "metadata": {},
     "output_type": "execute_result"
    }
   ],
   "source": [
    "data_df_2 = pd.DataFrame.from_dict(dict_data_2)\n",
    "data_df_2.head()"
   ]
  },
  {
   "cell_type": "code",
   "execution_count": 178,
   "metadata": {},
   "outputs": [],
   "source": [
    "def calculo_f(row, v1, r1, r2):\n",
    "    '''Função para fazer o preenchimento dos dados completo da tabela'''\n",
    "    try:\n",
    "        Iled = row['Vr2[V]']/r2\n",
    "        \n",
    "        Vldr = v1 - row['Vr1[V]']\n",
    "        \n",
    "        Ildr = row['Vr1[V]']/r1\n",
    "        \n",
    "        Gldr = Ildr/Vldr\n",
    "\n",
    "        row['Iled[A]'] = Iled\n",
    "        row['Vldr[V]'] = Vldr\n",
    "        row['Ildr[A]'] = Ildr\n",
    "        row['Gldr[S]'] = Gldr\n",
    "    \n",
    "    except ZeroDivisionError:\n",
    "        row['Iled[A]'] = 0\n",
    "        row['Vldr[V]'] = 0\n",
    "        row['Ildr[A]'] = 0\n",
    "        row['Gldr[S]'] = 0\n",
    "    \n",
    "    return row"
   ]
  },
  {
   "cell_type": "code",
   "execution_count": 179,
   "metadata": {},
   "outputs": [],
   "source": [
    "data_df_2 = data_df_2.apply(lambda row : calculo_f(row, v1, r1, r2), axis = 1)"
   ]
  },
  {
   "cell_type": "code",
   "execution_count": 181,
   "metadata": {},
   "outputs": [
    {
     "data": {
      "text/html": [
       "<div>\n",
       "<style scoped>\n",
       "    .dataframe tbody tr th:only-of-type {\n",
       "        vertical-align: middle;\n",
       "    }\n",
       "\n",
       "    .dataframe tbody tr th {\n",
       "        vertical-align: top;\n",
       "    }\n",
       "\n",
       "    .dataframe thead th {\n",
       "        text-align: right;\n",
       "    }\n",
       "</style>\n",
       "<table border=\"1\" class=\"dataframe\">\n",
       "  <thead>\n",
       "    <tr style=\"text-align: right;\">\n",
       "      <th></th>\n",
       "      <th>V2(alvo)[V]</th>\n",
       "      <th>V2[V]</th>\n",
       "      <th>Vr2[V]</th>\n",
       "      <th>Vr1[V]</th>\n",
       "      <th>Iled[A]</th>\n",
       "      <th>Vldr[V]</th>\n",
       "      <th>Ildr[A]</th>\n",
       "      <th>Gldr[S]</th>\n",
       "    </tr>\n",
       "  </thead>\n",
       "  <tbody>\n",
       "    <tr>\n",
       "      <th>0</th>\n",
       "      <td>3.0</td>\n",
       "      <td>3.00</td>\n",
       "      <td>0.460</td>\n",
       "      <td>5.27</td>\n",
       "      <td>0.000475</td>\n",
       "      <td>6.83</td>\n",
       "      <td>0.005361</td>\n",
       "      <td>0.000785</td>\n",
       "    </tr>\n",
       "    <tr>\n",
       "      <th>1</th>\n",
       "      <td>4.0</td>\n",
       "      <td>4.01</td>\n",
       "      <td>1.395</td>\n",
       "      <td>6.82</td>\n",
       "      <td>0.001441</td>\n",
       "      <td>5.28</td>\n",
       "      <td>0.006938</td>\n",
       "      <td>0.001314</td>\n",
       "    </tr>\n",
       "    <tr>\n",
       "      <th>2</th>\n",
       "      <td>5.0</td>\n",
       "      <td>5.01</td>\n",
       "      <td>2.340</td>\n",
       "      <td>7.55</td>\n",
       "      <td>0.002417</td>\n",
       "      <td>4.55</td>\n",
       "      <td>0.007681</td>\n",
       "      <td>0.001688</td>\n",
       "    </tr>\n",
       "    <tr>\n",
       "      <th>3</th>\n",
       "      <td>6.0</td>\n",
       "      <td>6.01</td>\n",
       "      <td>3.300</td>\n",
       "      <td>8.04</td>\n",
       "      <td>0.003409</td>\n",
       "      <td>4.06</td>\n",
       "      <td>0.008179</td>\n",
       "      <td>0.002015</td>\n",
       "    </tr>\n",
       "    <tr>\n",
       "      <th>4</th>\n",
       "      <td>7.0</td>\n",
       "      <td>7.03</td>\n",
       "      <td>4.290</td>\n",
       "      <td>8.37</td>\n",
       "      <td>0.004432</td>\n",
       "      <td>3.73</td>\n",
       "      <td>0.008515</td>\n",
       "      <td>0.002283</td>\n",
       "    </tr>\n",
       "    <tr>\n",
       "      <th>5</th>\n",
       "      <td>8.0</td>\n",
       "      <td>8.02</td>\n",
       "      <td>5.240</td>\n",
       "      <td>8.56</td>\n",
       "      <td>0.005413</td>\n",
       "      <td>3.54</td>\n",
       "      <td>0.008708</td>\n",
       "      <td>0.002460</td>\n",
       "    </tr>\n",
       "    <tr>\n",
       "      <th>6</th>\n",
       "      <td>9.0</td>\n",
       "      <td>9.00</td>\n",
       "      <td>6.180</td>\n",
       "      <td>8.79</td>\n",
       "      <td>0.006384</td>\n",
       "      <td>3.31</td>\n",
       "      <td>0.008942</td>\n",
       "      <td>0.002702</td>\n",
       "    </tr>\n",
       "    <tr>\n",
       "      <th>7</th>\n",
       "      <td>10.0</td>\n",
       "      <td>10.00</td>\n",
       "      <td>7.150</td>\n",
       "      <td>8.93</td>\n",
       "      <td>0.007386</td>\n",
       "      <td>3.17</td>\n",
       "      <td>0.009084</td>\n",
       "      <td>0.002866</td>\n",
       "    </tr>\n",
       "  </tbody>\n",
       "</table>\n",
       "</div>"
      ],
      "text/plain": [
       "   V2(alvo)[V]  V2[V]  Vr2[V]  Vr1[V]   Iled[A]  Vldr[V]   Ildr[A]   Gldr[S]\n",
       "0          3.0   3.00   0.460    5.27  0.000475     6.83  0.005361  0.000785\n",
       "1          4.0   4.01   1.395    6.82  0.001441     5.28  0.006938  0.001314\n",
       "2          5.0   5.01   2.340    7.55  0.002417     4.55  0.007681  0.001688\n",
       "3          6.0   6.01   3.300    8.04  0.003409     4.06  0.008179  0.002015\n",
       "4          7.0   7.03   4.290    8.37  0.004432     3.73  0.008515  0.002283\n",
       "5          8.0   8.02   5.240    8.56  0.005413     3.54  0.008708  0.002460\n",
       "6          9.0   9.00   6.180    8.79  0.006384     3.31  0.008942  0.002702\n",
       "7         10.0  10.00   7.150    8.93  0.007386     3.17  0.009084  0.002866"
      ]
     },
     "execution_count": 181,
     "metadata": {},
     "output_type": "execute_result"
    }
   ],
   "source": [
    "data_df_2"
   ]
  },
  {
   "cell_type": "markdown",
   "metadata": {},
   "source": [
    "#### 2) Obtenha o gráfico de pontos experimentais para curva I x V AB . Onde I é a corrente que passa pelo filamento e V AB = (V A -V B ) é o potencial sobre a lâmpada."
   ]
  },
  {
   "cell_type": "code",
   "execution_count": 182,
   "metadata": {},
   "outputs": [
    {
     "data": {
      "image/png": "[encoded data removed]",
      "text/plain": [
       "<Figure size 720x720 with 1 Axes>"
      ]
     },
     "metadata": {
      "needs_background": "light"
     },
     "output_type": "display_data"
    }
   ],
   "source": [
    "data_df_2.plot(kind='scatter',y='Gldr[S]',x='Iled[A]',color='red', grid=True, title='Curva de Gldr[S] x Iled[A]', legend=True, xticks=data_df_2['Iled[A]'], yticks=data_df_2['Gldr[S]'], figsize=(10,10) )\n",
    "plt.show()"
   ]
  },
  {
   "cell_type": "markdown",
   "metadata": {},
   "source": [
    "Ajustando curva"
   ]
  },
  {
   "cell_type": "code",
   "execution_count": 183,
   "metadata": {},
   "outputs": [],
   "source": [
    "g1 = np.sqrt(data_df_2['Iled[A]'].values)\n",
    "g2 = np.ones(len(data_df_2))\n",
    "a11 = np.sum(g1*g1)\n",
    "a12 = np.sum(g1*g2)\n",
    "a21 = np.sum(g2*g1)\n",
    "a22 = np.sum(g2*g2)\n",
    "b1 = np.sum((data_df_2['Gldr[S]'].values)*g1)\n",
    "b2 = np.sum((data_df_2['Gldr[S]'].values)*g2)"
   ]
  },
  {
   "cell_type": "code",
   "execution_count": 184,
   "metadata": {},
   "outputs": [],
   "source": [
    "A =  np.array([[a11, a12],[a21, a22]])\n",
    "B =  np.array([b1, b2])\n",
    "C = np.linalg.solve(A, B)"
   ]
  },
  {
   "cell_type": "code",
   "execution_count": 185,
   "metadata": {},
   "outputs": [
    {
     "name": "stdout",
     "output_type": "stream",
     "text": [
      "Onde C é:  [3.26306505e-02 8.33913578e-05]\n"
     ]
    }
   ],
   "source": [
    "print('Onde C é: ', C)"
   ]
  },
  {
   "cell_type": "code",
   "execution_count": 186,
   "metadata": {},
   "outputs": [
    {
     "data": {
      "image/png": "[encoded data removed]",
      "text/plain": [
       "<Figure size 432x288 with 1 Axes>"
      ]
     },
     "metadata": {
      "needs_background": "light"
     },
     "output_type": "display_data"
    }
   ],
   "source": [
    "plt.plot(C)\n",
    "plt.show()"
   ]
  },
  {
   "cell_type": "code",
   "execution_count": 188,
   "metadata": {},
   "outputs": [],
   "source": [
    "Iledc = np.linspace(min(data_df_2['Iled[A]']), max(data_df_2['Iled[A]']), num=100)\n",
    "\n",
    "Gldrc = C[0]*np.sqrt(Iledc) + C[1]\n",
    "\n",
    "Rldrc = 1/Gldrc"
   ]
  },
  {
   "cell_type": "code",
   "execution_count": 190,
   "metadata": {},
   "outputs": [
    {
     "data": {
      "image/png": "[encoded data removed]",
      "text/plain": [
       "<Figure size 432x288 with 1 Axes>"
      ]
     },
     "metadata": {
      "needs_background": "light"
     },
     "output_type": "display_data"
    }
   ],
   "source": [
    "plt.plot(Iledc, Gldrc, 'b', data_df_2['Iled[A]'], data_df_2['Gldr[S]'], 'x')\n",
    "plt.xlabel('Iledc[A]')  \n",
    "plt.ylabel('Gldr[S]') \n",
    "plt.show()"
   ]
  },
  {
   "cell_type": "code",
   "execution_count": 192,
   "metadata": {},
   "outputs": [
    {
     "name": "stdout",
     "output_type": "stream",
     "text": [
      "O erro medio quadrado é dado por:  0.008408307287119735\n"
     ]
    }
   ],
   "source": [
    "Gldr0 = C[0]*np.sqrt(data_df_2['Iled[A]'].values)+C[1]\n",
    "Rldr0 = 1/Gldr0\n",
    "\n",
    "EQMP = 100*(1/len(data_df_2))*np.sum(((data_df_2['Gldr[S]'].values - Gldr0)/data_df_2['Gldr[S]'].values)**2)\n",
    "\n",
    "print('O erro medio quadrado é dado por: ', EQMP)"
   ]
  },
  {
   "cell_type": "markdown",
   "metadata": {},
   "source": [
    "Como o erro percentual quadradico médio é proximo de 0 o resultado é muito aceitavel, porem para melhorar ainda mais seria melhor uma fonte com menos variação e resistores melhores."
   ]
  },
  {
   "cell_type": "markdown",
   "metadata": {},
   "source": [
    "## 3)Pesquisa:"
   ]
  },
  {
   "cell_type": "markdown",
   "metadata": {},
   "source": [
    "Encontre materiais que podem ser usados na construção de LDRs sensíveis à luz com comprimentos de onda na região do visível (400 nm >  > 700 nm). Comente se cada material encontrado é monocristalino, policristalino ou amorfo, ou ainda se é orgânico ou inorgânico, e cite as suas referências."
   ]
  },
  {
   "cell_type": "markdown",
   "metadata": {},
   "source": [
    "Os LDRs são fabricados com materiais de alta resistência, como por exemplo o Sulfeto de Cádmio (CdS) ou o Sulfeto de Chumbo (PbS). Esses materiais possuem poucos elétrons livres quando colocados em ambiente escuro, e liberam elétrons quando há incidência de luz sobre eles, aumentando sua condutividade. Chamamos a esse efeito de Fotocondutividade.\n",
    "\n",
    "[Referência](http://www.bosontreinamentos.com.br/eletronica/curso-de-eletronica/curso-de-eletronica-o-que-e-um-ldr-light-dependent-resistor/#:~:text=Os%20LDRs%20s%C3%A3o%20fabricados%20com,sobre%20eles%2C%20aumentando%20sua%20condutividade.)"
   ]
  },
  {
   "cell_type": "markdown",
   "metadata": {},
   "source": [
    "Sulfeto de cádmio -> Estrutura cristalina: Hexagonal"
   ]
  },
  {
   "cell_type": "code",
   "execution_count": null,
   "metadata": {},
   "outputs": [],
   "source": []
  }
 ],
 "metadata": {
  "kernelspec": {
   "display_name": "Python 3",
   "language": "python",
   "name": "python3"
  },
  "language_info": {
   "codemirror_mode": {
    "name": "ipython",
    "version": 3
   },
   "file_extension": ".py",
   "mimetype": "text/x-python",
   "name": "python",
   "nbconvert_exporter": "python",
   "pygments_lexer": "ipython3",
   "version": "3.6.9"
  }
 },
 "nbformat": 4,
 "nbformat_minor": 4
}
